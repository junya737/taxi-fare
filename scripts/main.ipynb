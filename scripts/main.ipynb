{
 "cells": [
  {
   "cell_type": "code",
   "execution_count": 1,
   "id": "b0dda5f2-a08b-4538-9be2-df7632bb396e",
   "metadata": {},
   "outputs": [
    {
     "name": "stderr",
     "output_type": "stream",
     "text": [
      "/var/folders/2g/2p1ts9gx1tz17949_fkbl8bc0000gn/T/ipykernel_1884/3029951479.py:20: DeprecationWarning: Please use `pearsonr` from the `scipy.stats` namespace, the `scipy.stats.stats` namespace is deprecated.\n",
      "  from scipy.stats.stats import pearsonr\n"
     ]
    },
    {
     "data": {
      "text/plain": [
       "<module 'modules.function' from '/Users/junya/program/taxi-fare/scripts/modules/function.py'>"
      ]
     },
     "execution_count": 1,
     "metadata": {},
     "output_type": "execute_result"
    }
   ],
   "source": [
    "\n",
    "import pandas as pd\n",
    "import numpy as np\n",
    "import matplotlib.pyplot as plt\n",
    "import lightgbm as lgb\n",
    "from importlib import reload\n",
    "import datetime\n",
    "from sklearn.model_selection import StratifiedKFold\n",
    "from sklearn.model_selection import cross_validate\n",
    "from sklearn.model_selection import KFold, train_test_split\n",
    "from sklearn.metrics import accuracy_score\n",
    "from sklearn.pipeline import make_pipeline\n",
    "import optuna\n",
    "import pickle\n",
    "from scipy import stats\n",
    "\n",
    "from copy import deepcopy\n",
    "\n",
    "import seaborn as sns\n",
    "from scipy.stats import skew\n",
    "from scipy.stats.stats import pearsonr\n",
    "from sklearn.preprocessing import StandardScaler\n",
    "from sklearn.preprocessing import RobustScaler\n",
    "from sklearn.metrics import mean_squared_error\n",
    "from sklearn.linear_model import Ridge\n",
    "import datetime\n",
    "\n",
    "from modules import function\n",
    "\n",
    "reload(function)\n"
   ]
  },
  {
   "cell_type": "code",
   "execution_count": 2,
   "id": "9e3dd419",
   "metadata": {},
   "outputs": [],
   "source": [
    "# Get the raw data\n",
    "train_raw = pd.read_csv(\"../data/raw/train.csv\", nrows=1000000)\n",
    "test_raw = pd.read_csv(\"../data/raw/test.csv\")\n"
   ]
  },
  {
   "cell_type": "code",
   "execution_count": 3,
   "id": "35cd9c60",
   "metadata": {},
   "outputs": [
    {
     "data": {
      "text/html": [
       "<div>\n",
       "<style scoped>\n",
       "    .dataframe tbody tr th:only-of-type {\n",
       "        vertical-align: middle;\n",
       "    }\n",
       "\n",
       "    .dataframe tbody tr th {\n",
       "        vertical-align: top;\n",
       "    }\n",
       "\n",
       "    .dataframe thead th {\n",
       "        text-align: right;\n",
       "    }\n",
       "</style>\n",
       "<table border=\"1\" class=\"dataframe\">\n",
       "  <thead>\n",
       "    <tr style=\"text-align: right;\">\n",
       "      <th></th>\n",
       "      <th>fare_amount</th>\n",
       "      <th>pickup_longitude</th>\n",
       "      <th>pickup_latitude</th>\n",
       "      <th>dropoff_longitude</th>\n",
       "      <th>dropoff_latitude</th>\n",
       "      <th>passenger_count</th>\n",
       "    </tr>\n",
       "  </thead>\n",
       "  <tbody>\n",
       "    <tr>\n",
       "      <th>count</th>\n",
       "      <td>1000000.000000</td>\n",
       "      <td>1000000.000000</td>\n",
       "      <td>1000000.000000</td>\n",
       "      <td>999990.000000</td>\n",
       "      <td>999990.000000</td>\n",
       "      <td>1000000.000000</td>\n",
       "    </tr>\n",
       "    <tr>\n",
       "      <th>mean</th>\n",
       "      <td>11.348079</td>\n",
       "      <td>-72.526640</td>\n",
       "      <td>39.929008</td>\n",
       "      <td>-72.527860</td>\n",
       "      <td>39.919954</td>\n",
       "      <td>1.684924</td>\n",
       "    </tr>\n",
       "    <tr>\n",
       "      <th>std</th>\n",
       "      <td>9.822090</td>\n",
       "      <td>12.057937</td>\n",
       "      <td>7.626154</td>\n",
       "      <td>11.324494</td>\n",
       "      <td>8.201418</td>\n",
       "      <td>1.323911</td>\n",
       "    </tr>\n",
       "    <tr>\n",
       "      <th>min</th>\n",
       "      <td>-44.900000</td>\n",
       "      <td>-3377.680935</td>\n",
       "      <td>-3116.285383</td>\n",
       "      <td>-3383.296608</td>\n",
       "      <td>-3114.338567</td>\n",
       "      <td>0.000000</td>\n",
       "    </tr>\n",
       "    <tr>\n",
       "      <th>25%</th>\n",
       "      <td>6.000000</td>\n",
       "      <td>-73.992060</td>\n",
       "      <td>40.734965</td>\n",
       "      <td>-73.991385</td>\n",
       "      <td>40.734046</td>\n",
       "      <td>1.000000</td>\n",
       "    </tr>\n",
       "    <tr>\n",
       "      <th>50%</th>\n",
       "      <td>8.500000</td>\n",
       "      <td>-73.981792</td>\n",
       "      <td>40.752695</td>\n",
       "      <td>-73.980135</td>\n",
       "      <td>40.753166</td>\n",
       "      <td>1.000000</td>\n",
       "    </tr>\n",
       "    <tr>\n",
       "      <th>75%</th>\n",
       "      <td>12.500000</td>\n",
       "      <td>-73.967094</td>\n",
       "      <td>40.767154</td>\n",
       "      <td>-73.963654</td>\n",
       "      <td>40.768129</td>\n",
       "      <td>2.000000</td>\n",
       "    </tr>\n",
       "    <tr>\n",
       "      <th>max</th>\n",
       "      <td>500.000000</td>\n",
       "      <td>2522.271325</td>\n",
       "      <td>2621.628430</td>\n",
       "      <td>45.581619</td>\n",
       "      <td>1651.553433</td>\n",
       "      <td>208.000000</td>\n",
       "    </tr>\n",
       "  </tbody>\n",
       "</table>\n",
       "</div>"
      ],
      "text/plain": [
       "          fare_amount  pickup_longitude  pickup_latitude  dropoff_longitude  \\\n",
       "count  1000000.000000    1000000.000000   1000000.000000      999990.000000   \n",
       "mean        11.348079        -72.526640        39.929008         -72.527860   \n",
       "std          9.822090         12.057937         7.626154          11.324494   \n",
       "min        -44.900000      -3377.680935     -3116.285383       -3383.296608   \n",
       "25%          6.000000        -73.992060        40.734965         -73.991385   \n",
       "50%          8.500000        -73.981792        40.752695         -73.980135   \n",
       "75%         12.500000        -73.967094        40.767154         -73.963654   \n",
       "max        500.000000       2522.271325      2621.628430          45.581619   \n",
       "\n",
       "       dropoff_latitude  passenger_count  \n",
       "count     999990.000000   1000000.000000  \n",
       "mean          39.919954         1.684924  \n",
       "std            8.201418         1.323911  \n",
       "min        -3114.338567         0.000000  \n",
       "25%           40.734046         1.000000  \n",
       "50%           40.753166         1.000000  \n",
       "75%           40.768129         2.000000  \n",
       "max         1651.553433       208.000000  "
      ]
     },
     "execution_count": 3,
     "metadata": {},
     "output_type": "execute_result"
    }
   ],
   "source": [
    "train_raw.describe()\n"
   ]
  },
  {
   "cell_type": "code",
   "execution_count": 4,
   "id": "9deb67b4",
   "metadata": {},
   "outputs": [],
   "source": [
    "def change_dtype(df_raw):\n",
    "    df = deepcopy(df_raw)\n",
    "    for col in df.columns:\n",
    "        if (df[col].dtype == \"float64\"):\n",
    "            df[col] = df[col].astype(np.float32)\n",
    "        elif (df[col].dtype == \"int32\"):\n",
    "            df[col] = df[col].astype(np.int32)\n",
    "    return df\n",
    "\n",
    "\n",
    "train = change_dtype(train_raw)\n",
    "test = change_dtype(test_raw)\n"
   ]
  },
  {
   "cell_type": "code",
   "execution_count": 5,
   "id": "fe3e3154",
   "metadata": {},
   "outputs": [
    {
     "data": {
      "text/plain": [
       "key                   object\n",
       "fare_amount          float32\n",
       "pickup_datetime       object\n",
       "pickup_longitude     float32\n",
       "pickup_latitude      float32\n",
       "dropoff_longitude    float32\n",
       "dropoff_latitude     float32\n",
       "passenger_count        int64\n",
       "dtype: object"
      ]
     },
     "execution_count": 5,
     "metadata": {},
     "output_type": "execute_result"
    }
   ],
   "source": [
    "train.dtypes\n"
   ]
  },
  {
   "cell_type": "code",
   "execution_count": 6,
   "id": "19dc684c",
   "metadata": {},
   "outputs": [
    {
     "data": {
      "text/plain": [
       "(0.0, 70.0)"
      ]
     },
     "execution_count": 6,
     "metadata": {},
     "output_type": "execute_result"
    },
    {
     "data": {
      "image/png": "[encoded data removed]",
      "text/plain": [
       "<Figure size 432x288 with 1 Axes>"
      ]
     },
     "metadata": {
      "needs_background": "light"
     },
     "output_type": "display_data"
    }
   ],
   "source": [
    "plt.hist(train[\"fare_amount\"], bins=100, linewidth=0.5, edgecolor=\"black\")\n",
    "plt.xlim(0, 70)\n"
   ]
  },
  {
   "cell_type": "code",
   "execution_count": 7,
   "id": "16666c04",
   "metadata": {},
   "outputs": [
    {
     "name": "stderr",
     "output_type": "stream",
     "text": [
      "/var/folders/2g/2p1ts9gx1tz17949_fkbl8bc0000gn/T/ipykernel_1884/993376624.py:1: FutureWarning: The default value of numeric_only in DataFrame.corr is deprecated. In a future version, it will default to False. Select only valid columns or specify the value of numeric_only to silence this warning.\n",
      "  corr_target = train.corr()\n"
     ]
    },
    {
     "data": {
      "image/png": "[encoded data removed]",
      "text/plain": [
       "<Figure size 432x288 with 2 Axes>"
      ]
     },
     "metadata": {
      "needs_background": "light"
     },
     "output_type": "display_data"
    }
   ],
   "source": [
    "corr_target = train.corr()\n",
    "sns.heatmap(corr_target, cmap=\"coolwarm\", annot=True, vmin=-1, vmax=1)\n"
   ]
  },
  {
   "cell_type": "code",
   "execution_count": 8,
   "id": "fa709634",
   "metadata": {},
   "outputs": [
    {
     "data": {
      "text/plain": [
       "(0.0, 10.0)"
      ]
     },
     "execution_count": 8,
     "metadata": {},
     "output_type": "execute_result"
    },
    {
     "data": {
      "image/png": "[encoded data removed]",
      "text/plain": [
       "<Figure size 432x288 with 1 Axes>"
      ]
     },
     "metadata": {
      "needs_background": "light"
     },
     "output_type": "display_data"
    }
   ],
   "source": [
    "plt.scatter(y=train[\"fare_amount\"], x=train[\"passenger_count\"])\n",
    "plt.ylim(0, 10)\n"
   ]
  },
  {
   "cell_type": "code",
   "execution_count": 102,
   "id": "c7cdfe33",
   "metadata": {},
   "outputs": [],
   "source": [
    "n_splits = 5\n",
    "\n",
    "\n",
    "def rmse_cv(model):\n",
    "    kf = KFold(n_splits, shuffle=True, random_state=42)\n",
    "    cv = cross_validate(model, x_train, y_train,\n",
    "                        scoring=\"neg_root_mean_squared_error\", cv=kf)\n",
    "    return -cv[\"test_score\"]\n",
    "\n",
    "\n",
    "class my_cv():\n",
    "    def __init__(self, model, n_splits=5):\n",
    "        self.model = model\n",
    "        self.n_splits = n_splits\n",
    "        self.rmse_ = 0\n",
    "        self.result_ = []\n",
    "\n",
    "    def cv(self, x, y):\n",
    "        kf = KFold(self.n_splits, shuffle=True, random_state=42)\n",
    "        result = cross_validate(self.model, x, y,\n",
    "                                scoring=\"neg_root_mean_squared_error\", cv=kf)\n",
    "        self.rmse_ = -result[\"test_score\"]\n",
    "        self.result_ = result\n",
    "\n",
    "\n",
    "def get_yy(model, x, y):\n",
    "    x_train, x_valid, y_train, y_valid = train_test_split(\n",
    "        x, y, test_size=0.2, random_state=42)\n",
    "    model.fit(x_train, y_train)\n",
    "    y_pred = model.predict(x_valid)\n",
    "\n",
    "    return y_pred, y_valid\n",
    "\n",
    "\n",
    "class yy_analize():\n",
    "    def __init__(self, model, x, y):\n",
    "        self.model = model\n",
    "        self.x = x\n",
    "        self.y = y\n",
    "        self.y_pred = 0\n",
    "        self.y_val = 0\n",
    "\n",
    "    def pred(self, test_size=0.2):\n",
    "        x_train, x_val, y_train, y_val = train_test_split(\n",
    "            self.x, self.y, test_size=test_size, random_state=42)\n",
    "        self.model.fit(x_train, y_train)\n",
    "        self.y_pred = self.model.predict(x_val)\n",
    "        self.y_val = y_val\n",
    "\n",
    "\n",
    "def add_distance(data):\n",
    "    df = deepcopy(data)\n",
    "    df[\"distance_longitude\"] = np.abs(\n",
    "        df[\"dropoff_longitude\"] - df[\"pickup_longitude\"])\n",
    "    df[\"distance_latitude\"] = np.abs(\n",
    "        df[\"dropoff_latitude\"] - df[\"pickup_latitude\"])\n",
    "    df[\"distance\"] = np.sqrt(df[\"distance_longitude\"]\n",
    "                             ** 2 + df[\"distance_latitude\"]**2)\n",
    "    return df\n",
    "\n",
    "def preprocess(data):\n",
    "    df = deepcopy(data)\n",
    "    # Fare should be positive\n",
    "    drop_row = df[df[\"fare_amount\"] <= 0].index\n",
    "    df = df.drop(drop_row, axis=0)\n",
    "\n",
    "    # Passenger count should be positive\n",
    "    drop_row = df[(df[\"passenger_count\"] <= 0) | (df[\"passenger_count\"] > 6)]\n",
    "    df = df.drop(drop_row.index, axis=0)\n",
    "\n",
    "    # Location should be in NYC\n",
    "    loc_col = [\"pickup_longitude\", \"pickup_latitude\",\n",
    "            \"dropoff_longitude\", \"dropoff_latitude\"]\n",
    "    drop_row = []\n",
    "\n",
    "    for col in loc_col:\n",
    "        drop_row.extend(df[df[col] == 0].index)\n",
    "    drop_row = list(set(drop_row))\n",
    "    df = df.drop(drop_row, axis=0)\n",
    "\n",
    "    num_col = loc_col + [\"fare_amount\"]\n",
    "    drop_row = detect_outliers(df, num_col)\n",
    "    df = df.drop(drop_row, axis=0)\n",
    "    \n",
    "    return df\n",
    "\n"
   ]
  },
  {
   "cell_type": "code",
   "execution_count": 89,
   "id": "d10164e7",
   "metadata": {},
   "outputs": [
    {
     "name": "stdout",
     "output_type": "stream",
     "text": [
      "Mean rmse: 9.82002512104415\n",
      "Test rmse: 9.820470099730374\n"
     ]
    }
   ],
   "source": [
    "# Only Ridge\n",
    "\n",
    "# Change the data type\n",
    "train = change_dtype(train_raw)\n",
    "test = change_dtype(test_raw)\n",
    "\n",
    "# Remove the missing value\n",
    "train = train.dropna(how=\"any\", axis=\"rows\")\n",
    "\n",
    "y_train = train[\"fare_amount\"]\n",
    "x_train = train.drop([\"fare_amount\"], axis=\"columns\").drop(\n",
    "    columns=[\"key\", \"pickup_datetime\"])\n",
    "x_test = test.drop(columns=[\"key\", \"pickup_datetime\"])\n",
    "\n",
    "# Make the pipeline\n",
    "ridge = make_pipeline(RobustScaler(), Ridge(alpha=0.1))\n",
    "ridge_cv = my_cv(ridge)\n",
    "ridge_cv.cv(x_train, y_train)\n",
    "print(\"Mean rmse:\", ridge_cv.rmse_.mean())\n",
    "\n",
    "# Trian score\n",
    "ridge.fit(x_train, y_train)\n",
    "y_train_pred = ridge.predict(x_train)\n",
    "print(\"Test rmse:\", mean_squared_error(y_train, y_train_pred, squared=False))\n"
   ]
  },
  {
   "cell_type": "code",
   "execution_count": 95,
   "id": "a947c371",
   "metadata": {},
   "outputs": [
    {
     "name": "stdout",
     "output_type": "stream",
     "text": [
      "Mean rmse: 9.819627881877691\n",
      "Test rmse: 9.819845356403071\n"
     ]
    }
   ],
   "source": [
    "# Ridge and Feature Engineering\n",
    "\n",
    "# Change the data type\n",
    "train = change_dtype(train_raw)\n",
    "test = change_dtype(test_raw)\n",
    "\n",
    "# Remove the missing value\n",
    "train = train.dropna(how=\"any\", axis=\"rows\")\n",
    "\n",
    "# Feature Engineering\n",
    "train = add_distance(train)\n",
    "test = add_distance(test)\n",
    "\n",
    "y_train = train[\"fare_amount\"]\n",
    "x_train = train.drop([\"fare_amount\"], axis=\"columns\").drop(\n",
    "    columns=[\"key\", \"pickup_datetime\"])\n",
    "x_test = test.drop(columns=[\"key\", \"pickup_datetime\"])\n",
    "\n",
    "# Make the pipeline\n",
    "ridge = make_pipeline(RobustScaler(), Ridge(alpha=0.1))\n",
    "ridge_cv = my_cv(ridge)\n",
    "ridge_cv.cv(x_train, y_train)\n",
    "print(\"Mean rmse:\", ridge_cv.rmse_.mean())\n",
    "\n",
    "# Trian score\n",
    "ridge.fit(x_train, y_train)\n",
    "y_train_pred = ridge.predict(x_train)\n",
    "print(\"Test rmse:\", mean_squared_error(y_train, y_train_pred, squared=False))\n"
   ]
  },
  {
   "cell_type": "code",
   "execution_count": 103,
   "id": "3dfe62ae",
   "metadata": {},
   "outputs": [
    {
     "name": "stdout",
     "output_type": "stream",
     "text": [
      "Mean rmse: 2.2401357892174696\n",
      "Test rmse: 2.239339153271521\n"
     ]
    }
   ],
   "source": [
    "# LightGBM and Feature Engineering\n",
    "\n",
    "# Change the data type\n",
    "train = change_dtype(train_raw)\n",
    "test = change_dtype(test_raw)\n",
    "\n",
    "# Remove the missing value\n",
    "train = train.dropna(how=\"any\", axis=\"rows\")\n",
    "\n",
    "# Feature Engineering\n",
    "train = add_distance(train)\n",
    "test = add_distance(test)\n",
    "\n",
    "train = preprocess(train)\n",
    "\n",
    "y_train = train[\"fare_amount\"]\n",
    "x_train = train.drop([\"fare_amount\"], axis=\"columns\").drop(\n",
    "    columns=[\"key\", \"pickup_datetime\"])\n",
    "x_test = test.drop(columns=[\"key\", \"pickup_datetime\"])\n",
    "\n",
    "# Cross validation\n",
    "lgbm_params = {\n",
    "    'boosting_type': 'gbdt',\n",
    "    'num_leaves': 10,\n",
    "    \"max_depth\": 5,\n",
    "    'learning_rate': 0.01,\n",
    "    'n_estimators': 200,\n",
    "    'random_state': 42,\n",
    "}\n",
    "\n",
    "lgbm = lgb.LGBMRegressor(**lgbm_params)\n",
    "lgbm_cv = my_cv(lgbm)\n",
    "lgbm_cv.cv(x_train, y_train)\n",
    "print(\"Mean rmse:\", lgbm_cv.rmse_.mean())\n",
    "\n",
    "# Trian score\n",
    "lgbm.fit(x_train, y_train)\n",
    "y_train_pred = lgbm.predict(x_train)\n",
    "print(\"Test rmse:\", mean_squared_error(y_train, y_train_pred, squared=False))\n"
   ]
  },
  {
   "cell_type": "code",
   "execution_count": 84,
   "id": "f7784f16",
   "metadata": {},
   "outputs": [],
   "source": [
    "def detect_outliers(df, num_col):\n",
    "    \"\"\" Get the indecies of outliers based on the IQR method. \n",
    "    Note indecies cantain more than the threshold outliers.\n",
    "\n",
    "    Args:\n",
    "        df (_type_): _description_\n",
    "        num_col (_type_): numeric columns\n",
    "\n",
    "    Returns:\n",
    "        _type_: indecies of the outliers to drop\n",
    "    \"\"\"\n",
    "    outlier_list = []\n",
    "    for col in num_col:\n",
    "        # Calculate the IQR, ignoring the nan\n",
    "        q1 = np.nanpercentile(df[col], 25)\n",
    "        q3 = np.nanpercentile(df[col], 75)\n",
    "        iqr = q3 - q1\n",
    "\n",
    "        outlier_step = 1.5 * iqr\n",
    "        outliers = df[(df[col] < q1 - outlier_step) |\n",
    "                      (df[col] > q3 + outlier_step)].index\n",
    "        outlier_list.extend(outliers)\n",
    "\n",
    "    return sorted(list(set(outlier_list)))\n"
   ]
  },
  {
   "cell_type": "code",
   "execution_count": 96,
   "id": "c28a27c4",
   "metadata": {},
   "outputs": [
    {
     "name": "stdout",
     "output_type": "stream",
     "text": [
      "Index(['key', 'fare_amount', 'pickup_datetime', 'pickup_longitude',\n",
      "       'pickup_latitude', 'dropoff_longitude', 'dropoff_latitude',\n",
      "       'passenger_count', 'distance_longitude', 'distance_latitude',\n",
      "       'distance'],\n",
      "      dtype='object')\n"
     ]
    }
   ],
   "source": [
    "\n",
    "\n"
   ]
  },
  {
   "cell_type": "code",
   "execution_count": 101,
   "id": "d8bffb94",
   "metadata": {},
   "outputs": [
    {
     "data": {
      "image/png": "[encoded data removed]",
      "text/plain": [
       "<Figure size 1440x1080 with 9 Axes>"
      ]
     },
     "metadata": {
      "needs_background": "light"
     },
     "output_type": "display_data"
    }
   ],
   "source": [
    "g = df.hist(bins=10, linewidth=0.5, edgecolor=\"black\", figsize=(20, 15))"
   ]
  },
  {
   "cell_type": "code",
   "execution_count": 75,
   "id": "5b33aa73",
   "metadata": {},
   "outputs": [
    {
     "data": {
      "image/png": "[encoded data removed]",
      "text/plain": [
       "<Figure size 432x288 with 1 Axes>"
      ]
     },
     "metadata": {
      "needs_background": "light"
     },
     "output_type": "display_data"
    },
    {
     "data": {
      "image/png": "[encoded data removed]",
      "text/plain": [
       "<Figure size 432x288 with 1 Axes>"
      ]
     },
     "metadata": {
      "needs_background": "light"
     },
     "output_type": "display_data"
    }
   ],
   "source": [
    "g = plt.hist(df[\"fare_amount\"], bins=1000, linewidth=0.5, edgecolor=\"black\")\n",
    "plt.xlim(0, 50)\n",
    "\n"
   ]
  },
  {
   "cell_type": "code",
   "execution_count": 20,
   "id": "a4577769",
   "metadata": {},
   "outputs": [],
   "source": [
    "# Prediction\n",
    "y_pred = lgbm.predict(x_test)\n",
    "result = pd.read_csv(\"../data/raw/sample_submission.csv\")\n",
    "result[\"fare_amount\"] = y_pred\n",
    "\n",
    "dt_now = datetime.datetime.now()\n",
    "result.to_csv(\"../data/result/prediction_\" +\n",
    "              dt_now.strftime('%Y%m%d_%H%M%S') + \".csv\", index=False)\n"
   ]
  },
  {
   "cell_type": "code",
   "execution_count": 11,
   "id": "7aabe753",
   "metadata": {},
   "outputs": [
    {
     "data": {
      "text/plain": [
       "(0.0, 100.0)"
      ]
     },
     "execution_count": 11,
     "metadata": {},
     "output_type": "execute_result"
    },
    {
     "data": {
      "image/png": "[encoded data removed]",
      "text/plain": [
       "<Figure size 432x288 with 1 Axes>"
      ]
     },
     "metadata": {
      "needs_background": "light"
     },
     "output_type": "display_data"
    }
   ],
   "source": [
    "y_pred, y_val = get_yy(lgbm, x_train, y_train)\n",
    "\n",
    "plt.scatter(y_pred, y_val, s=1)\n",
    "plt.plot([0, 100], [0, 100], color=\"black\")\n",
    "plt.xlim(0, 20)\n",
    "plt.ylim(0, 100)\n"
   ]
  },
  {
   "cell_type": "code",
   "execution_count": 83,
   "id": "cffa417d",
   "metadata": {},
   "outputs": [
    {
     "data": {
      "text/plain": [
       "(0.0, 100.0)"
      ]
     },
     "execution_count": 83,
     "metadata": {},
     "output_type": "execute_result"
    },
    {
     "data": {
      "image/png": "[encoded data removed]",
      "text/plain": [
       "<Figure size 432x288 with 1 Axes>"
      ]
     },
     "metadata": {
      "needs_background": "light"
     },
     "output_type": "display_data"
    }
   ],
   "source": [
    "ridge = make_pipeline(RobustScaler(), Ridge(alpha=0.1))\n",
    "y_pred, y_val = get_yy(ridge, x_train, y_train)\n",
    "\n",
    "plt.scatter(y_pred, y_val, s=1)\n",
    "plt.plot([0, 100], [0, 100], color=\"black\")\n",
    "plt.xlim(0, 20)\n",
    "plt.ylim(0, 100)\n"
   ]
  },
  {
   "cell_type": "code",
   "execution_count": 63,
   "id": "a80f6db6",
   "metadata": {},
   "outputs": [
    {
     "ename": "AttributeError",
     "evalue": "'NoneType' object has no attribute 'model'",
     "output_type": "error",
     "traceback": [
      "\u001b[0;31m---------------------------------------------------------------------------\u001b[0m",
      "\u001b[0;31mAttributeError\u001b[0m                            Traceback (most recent call last)",
      "\u001b[1;32m/Users/junya/program/taxi-fare/scripts/main.ipynb Cell 13\u001b[0m line \u001b[0;36m<cell line: 1>\u001b[0;34m()\u001b[0m\n\u001b[0;32m----> <a href='vscode-notebook-cell:/Users/junya/program/taxi-fare/scripts/main.ipynb#X65sZmlsZQ%3D%3D?line=0'>1</a>\u001b[0m yy_analize\u001b[39m.\u001b[39;49mmodel\n",
      "\u001b[0;31mAttributeError\u001b[0m: 'NoneType' object has no attribute 'model'"
     ]
    }
   ],
   "source": []
  },
  {
   "cell_type": "code",
   "execution_count": null,
   "id": "f7c2a894",
   "metadata": {},
   "outputs": [],
   "source": []
  },
  {
   "cell_type": "code",
   "execution_count": 91,
   "id": "f0c4dda6",
   "metadata": {},
   "outputs": [],
   "source": [
    "# Feature engineering\n",
    "\n",
    "def add_distance(data):\n",
    "    df = deepcopy(data)\n",
    "    df[\"distance_longitude\"] = df[\"dropoff_longitude\"] - df[\"pickup_longitude\"]\n",
    "    df[\"distance_latitude\"] = df[\"dropoff_latitude\"] - df[\"pickup_latitude\"]\n",
    "    df[\"distance\"] = np.sqrt(df[\"distance_longitude\"]\n",
    "                             ** 2 + df[\"distance_latitude\"]**2)\n",
    "    return df\n"
   ]
  },
  {
   "cell_type": "code",
   "execution_count": null,
   "id": "ef99e900",
   "metadata": {},
   "outputs": [],
   "source": []
  },
  {
   "cell_type": "code",
   "execution_count": null,
   "id": "0e3525eb",
   "metadata": {},
   "outputs": [],
   "source": []
  },
  {
   "cell_type": "code",
   "execution_count": null,
   "id": "26094224",
   "metadata": {},
   "outputs": [],
   "source": []
  },
  {
   "cell_type": "code",
   "execution_count": null,
   "id": "2285e7c5",
   "metadata": {},
   "outputs": [],
   "source": []
  },
  {
   "cell_type": "code",
   "execution_count": 16,
   "id": "a96f30ff",
   "metadata": {},
   "outputs": [
    {
     "data": {
      "text/html": [
       "<div>\n",
       "<style scoped>\n",
       "    .dataframe tbody tr th:only-of-type {\n",
       "        vertical-align: middle;\n",
       "    }\n",
       "\n",
       "    .dataframe tbody tr th {\n",
       "        vertical-align: top;\n",
       "    }\n",
       "\n",
       "    .dataframe thead th {\n",
       "        text-align: right;\n",
       "    }\n",
       "</style>\n",
       "<table border=\"1\" class=\"dataframe\">\n",
       "  <thead>\n",
       "    <tr style=\"text-align: right;\">\n",
       "      <th></th>\n",
       "      <th>Total</th>\n",
       "      <th>Percent</th>\n",
       "    </tr>\n",
       "  </thead>\n",
       "  <tbody>\n",
       "    <tr>\n",
       "      <th>PoolQC</th>\n",
       "      <td>1453</td>\n",
       "      <td>0.995205</td>\n",
       "    </tr>\n",
       "    <tr>\n",
       "      <th>MiscFeature</th>\n",
       "      <td>1406</td>\n",
       "      <td>0.963014</td>\n",
       "    </tr>\n",
       "    <tr>\n",
       "      <th>Alley</th>\n",
       "      <td>1369</td>\n",
       "      <td>0.937671</td>\n",
       "    </tr>\n",
       "    <tr>\n",
       "      <th>Fence</th>\n",
       "      <td>1179</td>\n",
       "      <td>0.807534</td>\n",
       "    </tr>\n",
       "    <tr>\n",
       "      <th>MasVnrType</th>\n",
       "      <td>872</td>\n",
       "      <td>0.597260</td>\n",
       "    </tr>\n",
       "  </tbody>\n",
       "</table>\n",
       "</div>"
      ],
      "text/plain": [
       "             Total   Percent\n",
       "PoolQC        1453  0.995205\n",
       "MiscFeature   1406  0.963014\n",
       "Alley         1369  0.937671\n",
       "Fence         1179  0.807534\n",
       "MasVnrType     872  0.597260"
      ]
     },
     "execution_count": 16,
     "metadata": {},
     "output_type": "execute_result"
    }
   ],
   "source": [
    "# Display missing data\n",
    "nan_total = train_data_raw.isnull().sum().sort_values(ascending=False)\n",
    "nan_percent = nan_total/len(train_data_raw)\n",
    "nan_info = pd.concat([nan_total, nan_percent], axis=1,\n",
    "                     keys=[\"Total\", \"Percent\"])\n",
    "nan_info.head(5)\n"
   ]
  },
  {
   "cell_type": "code",
   "execution_count": 17,
   "id": "bf984e53",
   "metadata": {},
   "outputs": [
    {
     "data": {
      "text/html": [
       "<div>\n",
       "<style scoped>\n",
       "    .dataframe tbody tr th:only-of-type {\n",
       "        vertical-align: middle;\n",
       "    }\n",
       "\n",
       "    .dataframe tbody tr th {\n",
       "        vertical-align: top;\n",
       "    }\n",
       "\n",
       "    .dataframe thead th {\n",
       "        text-align: right;\n",
       "    }\n",
       "</style>\n",
       "<table border=\"1\" class=\"dataframe\">\n",
       "  <thead>\n",
       "    <tr style=\"text-align: right;\">\n",
       "      <th></th>\n",
       "      <th>Id</th>\n",
       "      <th>MSSubClass</th>\n",
       "      <th>MSZoning</th>\n",
       "      <th>LotArea</th>\n",
       "      <th>Street</th>\n",
       "      <th>LotShape</th>\n",
       "      <th>LandContour</th>\n",
       "      <th>Utilities</th>\n",
       "      <th>LotConfig</th>\n",
       "      <th>LandSlope</th>\n",
       "      <th>...</th>\n",
       "      <th>EnclosedPorch</th>\n",
       "      <th>3SsnPorch</th>\n",
       "      <th>ScreenPorch</th>\n",
       "      <th>PoolArea</th>\n",
       "      <th>MiscVal</th>\n",
       "      <th>MoSold</th>\n",
       "      <th>YrSold</th>\n",
       "      <th>SaleType</th>\n",
       "      <th>SaleCondition</th>\n",
       "      <th>SalePrice</th>\n",
       "    </tr>\n",
       "  </thead>\n",
       "  <tbody>\n",
       "    <tr>\n",
       "      <th>0</th>\n",
       "      <td>1</td>\n",
       "      <td>60</td>\n",
       "      <td>RL</td>\n",
       "      <td>8450</td>\n",
       "      <td>Pave</td>\n",
       "      <td>Reg</td>\n",
       "      <td>Lvl</td>\n",
       "      <td>AllPub</td>\n",
       "      <td>Inside</td>\n",
       "      <td>Gtl</td>\n",
       "      <td>...</td>\n",
       "      <td>0</td>\n",
       "      <td>0</td>\n",
       "      <td>0</td>\n",
       "      <td>0</td>\n",
       "      <td>0</td>\n",
       "      <td>2</td>\n",
       "      <td>2008</td>\n",
       "      <td>WD</td>\n",
       "      <td>Normal</td>\n",
       "      <td>208500</td>\n",
       "    </tr>\n",
       "    <tr>\n",
       "      <th>1</th>\n",
       "      <td>2</td>\n",
       "      <td>20</td>\n",
       "      <td>RL</td>\n",
       "      <td>9600</td>\n",
       "      <td>Pave</td>\n",
       "      <td>Reg</td>\n",
       "      <td>Lvl</td>\n",
       "      <td>AllPub</td>\n",
       "      <td>FR2</td>\n",
       "      <td>Gtl</td>\n",
       "      <td>...</td>\n",
       "      <td>0</td>\n",
       "      <td>0</td>\n",
       "      <td>0</td>\n",
       "      <td>0</td>\n",
       "      <td>0</td>\n",
       "      <td>5</td>\n",
       "      <td>2007</td>\n",
       "      <td>WD</td>\n",
       "      <td>Normal</td>\n",
       "      <td>181500</td>\n",
       "    </tr>\n",
       "    <tr>\n",
       "      <th>2</th>\n",
       "      <td>3</td>\n",
       "      <td>60</td>\n",
       "      <td>RL</td>\n",
       "      <td>11250</td>\n",
       "      <td>Pave</td>\n",
       "      <td>IR1</td>\n",
       "      <td>Lvl</td>\n",
       "      <td>AllPub</td>\n",
       "      <td>Inside</td>\n",
       "      <td>Gtl</td>\n",
       "      <td>...</td>\n",
       "      <td>0</td>\n",
       "      <td>0</td>\n",
       "      <td>0</td>\n",
       "      <td>0</td>\n",
       "      <td>0</td>\n",
       "      <td>9</td>\n",
       "      <td>2008</td>\n",
       "      <td>WD</td>\n",
       "      <td>Normal</td>\n",
       "      <td>223500</td>\n",
       "    </tr>\n",
       "    <tr>\n",
       "      <th>3</th>\n",
       "      <td>4</td>\n",
       "      <td>70</td>\n",
       "      <td>RL</td>\n",
       "      <td>9550</td>\n",
       "      <td>Pave</td>\n",
       "      <td>IR1</td>\n",
       "      <td>Lvl</td>\n",
       "      <td>AllPub</td>\n",
       "      <td>Corner</td>\n",
       "      <td>Gtl</td>\n",
       "      <td>...</td>\n",
       "      <td>272</td>\n",
       "      <td>0</td>\n",
       "      <td>0</td>\n",
       "      <td>0</td>\n",
       "      <td>0</td>\n",
       "      <td>2</td>\n",
       "      <td>2006</td>\n",
       "      <td>WD</td>\n",
       "      <td>Abnorml</td>\n",
       "      <td>140000</td>\n",
       "    </tr>\n",
       "    <tr>\n",
       "      <th>4</th>\n",
       "      <td>5</td>\n",
       "      <td>60</td>\n",
       "      <td>RL</td>\n",
       "      <td>14260</td>\n",
       "      <td>Pave</td>\n",
       "      <td>IR1</td>\n",
       "      <td>Lvl</td>\n",
       "      <td>AllPub</td>\n",
       "      <td>FR2</td>\n",
       "      <td>Gtl</td>\n",
       "      <td>...</td>\n",
       "      <td>0</td>\n",
       "      <td>0</td>\n",
       "      <td>0</td>\n",
       "      <td>0</td>\n",
       "      <td>0</td>\n",
       "      <td>12</td>\n",
       "      <td>2008</td>\n",
       "      <td>WD</td>\n",
       "      <td>Normal</td>\n",
       "      <td>250000</td>\n",
       "    </tr>\n",
       "    <tr>\n",
       "      <th>...</th>\n",
       "      <td>...</td>\n",
       "      <td>...</td>\n",
       "      <td>...</td>\n",
       "      <td>...</td>\n",
       "      <td>...</td>\n",
       "      <td>...</td>\n",
       "      <td>...</td>\n",
       "      <td>...</td>\n",
       "      <td>...</td>\n",
       "      <td>...</td>\n",
       "      <td>...</td>\n",
       "      <td>...</td>\n",
       "      <td>...</td>\n",
       "      <td>...</td>\n",
       "      <td>...</td>\n",
       "      <td>...</td>\n",
       "      <td>...</td>\n",
       "      <td>...</td>\n",
       "      <td>...</td>\n",
       "      <td>...</td>\n",
       "      <td>...</td>\n",
       "    </tr>\n",
       "    <tr>\n",
       "      <th>1455</th>\n",
       "      <td>1456</td>\n",
       "      <td>60</td>\n",
       "      <td>RL</td>\n",
       "      <td>7917</td>\n",
       "      <td>Pave</td>\n",
       "      <td>Reg</td>\n",
       "      <td>Lvl</td>\n",
       "      <td>AllPub</td>\n",
       "      <td>Inside</td>\n",
       "      <td>Gtl</td>\n",
       "      <td>...</td>\n",
       "      <td>0</td>\n",
       "      <td>0</td>\n",
       "      <td>0</td>\n",
       "      <td>0</td>\n",
       "      <td>0</td>\n",
       "      <td>8</td>\n",
       "      <td>2007</td>\n",
       "      <td>WD</td>\n",
       "      <td>Normal</td>\n",
       "      <td>175000</td>\n",
       "    </tr>\n",
       "    <tr>\n",
       "      <th>1456</th>\n",
       "      <td>1457</td>\n",
       "      <td>20</td>\n",
       "      <td>RL</td>\n",
       "      <td>13175</td>\n",
       "      <td>Pave</td>\n",
       "      <td>Reg</td>\n",
       "      <td>Lvl</td>\n",
       "      <td>AllPub</td>\n",
       "      <td>Inside</td>\n",
       "      <td>Gtl</td>\n",
       "      <td>...</td>\n",
       "      <td>0</td>\n",
       "      <td>0</td>\n",
       "      <td>0</td>\n",
       "      <td>0</td>\n",
       "      <td>0</td>\n",
       "      <td>2</td>\n",
       "      <td>2010</td>\n",
       "      <td>WD</td>\n",
       "      <td>Normal</td>\n",
       "      <td>210000</td>\n",
       "    </tr>\n",
       "    <tr>\n",
       "      <th>1457</th>\n",
       "      <td>1458</td>\n",
       "      <td>70</td>\n",
       "      <td>RL</td>\n",
       "      <td>9042</td>\n",
       "      <td>Pave</td>\n",
       "      <td>Reg</td>\n",
       "      <td>Lvl</td>\n",
       "      <td>AllPub</td>\n",
       "      <td>Inside</td>\n",
       "      <td>Gtl</td>\n",
       "      <td>...</td>\n",
       "      <td>0</td>\n",
       "      <td>0</td>\n",
       "      <td>0</td>\n",
       "      <td>0</td>\n",
       "      <td>2500</td>\n",
       "      <td>5</td>\n",
       "      <td>2010</td>\n",
       "      <td>WD</td>\n",
       "      <td>Normal</td>\n",
       "      <td>266500</td>\n",
       "    </tr>\n",
       "    <tr>\n",
       "      <th>1458</th>\n",
       "      <td>1459</td>\n",
       "      <td>20</td>\n",
       "      <td>RL</td>\n",
       "      <td>9717</td>\n",
       "      <td>Pave</td>\n",
       "      <td>Reg</td>\n",
       "      <td>Lvl</td>\n",
       "      <td>AllPub</td>\n",
       "      <td>Inside</td>\n",
       "      <td>Gtl</td>\n",
       "      <td>...</td>\n",
       "      <td>112</td>\n",
       "      <td>0</td>\n",
       "      <td>0</td>\n",
       "      <td>0</td>\n",
       "      <td>0</td>\n",
       "      <td>4</td>\n",
       "      <td>2010</td>\n",
       "      <td>WD</td>\n",
       "      <td>Normal</td>\n",
       "      <td>142125</td>\n",
       "    </tr>\n",
       "    <tr>\n",
       "      <th>1459</th>\n",
       "      <td>1460</td>\n",
       "      <td>20</td>\n",
       "      <td>RL</td>\n",
       "      <td>9937</td>\n",
       "      <td>Pave</td>\n",
       "      <td>Reg</td>\n",
       "      <td>Lvl</td>\n",
       "      <td>AllPub</td>\n",
       "      <td>Inside</td>\n",
       "      <td>Gtl</td>\n",
       "      <td>...</td>\n",
       "      <td>0</td>\n",
       "      <td>0</td>\n",
       "      <td>0</td>\n",
       "      <td>0</td>\n",
       "      <td>0</td>\n",
       "      <td>6</td>\n",
       "      <td>2008</td>\n",
       "      <td>WD</td>\n",
       "      <td>Normal</td>\n",
       "      <td>147500</td>\n",
       "    </tr>\n",
       "  </tbody>\n",
       "</table>\n",
       "<p>1460 rows × 74 columns</p>\n",
       "</div>"
      ],
      "text/plain": [
       "        Id  MSSubClass MSZoning  LotArea Street LotShape LandContour   \n",
       "0        1          60       RL     8450   Pave      Reg         Lvl  \\\n",
       "1        2          20       RL     9600   Pave      Reg         Lvl   \n",
       "2        3          60       RL    11250   Pave      IR1         Lvl   \n",
       "3        4          70       RL     9550   Pave      IR1         Lvl   \n",
       "4        5          60       RL    14260   Pave      IR1         Lvl   \n",
       "...    ...         ...      ...      ...    ...      ...         ...   \n",
       "1455  1456          60       RL     7917   Pave      Reg         Lvl   \n",
       "1456  1457          20       RL    13175   Pave      Reg         Lvl   \n",
       "1457  1458          70       RL     9042   Pave      Reg         Lvl   \n",
       "1458  1459          20       RL     9717   Pave      Reg         Lvl   \n",
       "1459  1460          20       RL     9937   Pave      Reg         Lvl   \n",
       "\n",
       "     Utilities LotConfig LandSlope  ... EnclosedPorch 3SsnPorch ScreenPorch   \n",
       "0       AllPub    Inside       Gtl  ...             0         0           0  \\\n",
       "1       AllPub       FR2       Gtl  ...             0         0           0   \n",
       "2       AllPub    Inside       Gtl  ...             0         0           0   \n",
       "3       AllPub    Corner       Gtl  ...           272         0           0   \n",
       "4       AllPub       FR2       Gtl  ...             0         0           0   \n",
       "...        ...       ...       ...  ...           ...       ...         ...   \n",
       "1455    AllPub    Inside       Gtl  ...             0         0           0   \n",
       "1456    AllPub    Inside       Gtl  ...             0         0           0   \n",
       "1457    AllPub    Inside       Gtl  ...             0         0           0   \n",
       "1458    AllPub    Inside       Gtl  ...           112         0           0   \n",
       "1459    AllPub    Inside       Gtl  ...             0         0           0   \n",
       "\n",
       "     PoolArea MiscVal  MoSold  YrSold  SaleType  SaleCondition SalePrice  \n",
       "0           0       0       2    2008        WD         Normal    208500  \n",
       "1           0       0       5    2007        WD         Normal    181500  \n",
       "2           0       0       9    2008        WD         Normal    223500  \n",
       "3           0       0       2    2006        WD        Abnorml    140000  \n",
       "4           0       0      12    2008        WD         Normal    250000  \n",
       "...       ...     ...     ...     ...       ...            ...       ...  \n",
       "1455        0       0       8    2007        WD         Normal    175000  \n",
       "1456        0       0       2    2010        WD         Normal    210000  \n",
       "1457        0    2500       5    2010        WD         Normal    266500  \n",
       "1458        0       0       4    2010        WD         Normal    142125  \n",
       "1459        0       0       6    2008        WD         Normal    147500  \n",
       "\n",
       "[1460 rows x 74 columns]"
      ]
     },
     "execution_count": 17,
     "metadata": {},
     "output_type": "execute_result"
    }
   ],
   "source": [
    "threshold = 0.1\n",
    "# Sparse column in training data\n",
    "sparse_col = nan_info[nan_info[\"Percent\"] > threshold].index.values\n",
    "\n",
    "train_data_raw.drop(columns=sparse_col)\n"
   ]
  },
  {
   "cell_type": "code",
   "execution_count": 18,
   "id": "b1ef6ffa",
   "metadata": {},
   "outputs": [],
   "source": [
    "df = train_data_raw\n",
    "\n",
    "\n",
    "def get_skew_col(df):\n",
    "    # get columns that have high skewness\n",
    "    threshold = 0.75\n",
    "\n",
    "    numeric_col = df.dtypes[df.dtypes != \"O\"].index\n",
    "\n",
    "    def get_skewness(series):\n",
    "        # get skewness in series while dropping nan\n",
    "        return skew(series.dropna())\n",
    "\n",
    "    skewness = df[numeric_col].apply(get_skewness)\n",
    "    skew_col = skewness[skewness > threshold].index\n",
    "\n",
    "    return skew_col\n"
   ]
  },
  {
   "cell_type": "code",
   "execution_count": null,
   "id": "e4e8e1f4",
   "metadata": {},
   "outputs": [],
   "source": []
  },
  {
   "cell_type": "code",
   "execution_count": 75,
   "id": "c0827320",
   "metadata": {},
   "outputs": [
    {
     "name": "stderr",
     "output_type": "stream",
     "text": [
      "/var/folders/2g/2p1ts9gx1tz17949_fkbl8bc0000gn/T/ipykernel_77165/3674210404.py:19: SettingWithCopyWarning: \n",
      "A value is trying to be set on a copy of a slice from a DataFrame.\n",
      "Try using .loc[row_indexer,col_indexer] = value instead\n",
      "\n",
      "See the caveats in the documentation: https://pandas.pydata.org/pandas-docs/stable/user_guide/indexing.html#returning-a-view-versus-a-copy\n",
      "  train_data[skew_col] = np.log1p(train_data[skew_col])\n",
      "/var/folders/2g/2p1ts9gx1tz17949_fkbl8bc0000gn/T/ipykernel_77165/3674210404.py:20: SettingWithCopyWarning: \n",
      "A value is trying to be set on a copy of a slice from a DataFrame.\n",
      "Try using .loc[row_indexer,col_indexer] = value instead\n",
      "\n",
      "See the caveats in the documentation: https://pandas.pydata.org/pandas-docs/stable/user_guide/indexing.html#returning-a-view-versus-a-copy\n",
      "  test_data[\"SalePrice\"] = 0\n",
      "/var/folders/2g/2p1ts9gx1tz17949_fkbl8bc0000gn/T/ipykernel_77165/3674210404.py:21: SettingWithCopyWarning: \n",
      "A value is trying to be set on a copy of a slice from a DataFrame.\n",
      "Try using .loc[row_indexer,col_indexer] = value instead\n",
      "\n",
      "See the caveats in the documentation: https://pandas.pydata.org/pandas-docs/stable/user_guide/indexing.html#returning-a-view-versus-a-copy\n",
      "  test_data[skew_col] = np.log1p(test_data[skew_col])\n"
     ]
    }
   ],
   "source": [
    "# Preprocess\n",
    "\n",
    "# Concatenate data\n",
    "all_data = pd.concat((train_data_raw.loc[:, 'MSSubClass':'SaleCondition'],\n",
    "                      test_data_raw.loc[:, 'MSSubClass':'SaleCondition']))\n",
    "\n",
    "# Drop the sparse columns\n",
    "all_data = all_data.drop(columns=sparse_col)\n",
    "\n",
    "# Add one hot features\n",
    "all_data = pd.get_dummies(all_data)\n",
    "\n",
    "# Split into train and test\n",
    "train_data = all_data[:train_data_raw.shape[0]]\n",
    "test_data = all_data[train_data_raw.shape[0]:]\n",
    "\n",
    "# Lognize the skew column\n",
    "skew_col = get_skew_col(train_data)\n",
    "train_data[skew_col] = np.log1p(train_data[skew_col])\n",
    "test_data[\"SalePrice\"] = 0\n",
    "test_data[skew_col] = np.log1p(test_data[skew_col])\n",
    "test_data = test_data.drop(columns=\"SalePrice\")\n",
    "\n",
    "# Fill nan with mean\n",
    "train_data = train_data.fillna(train_data.mean())\n",
    "test_data = test_data.fillna(test_data.mean())\n",
    "\n",
    "y_train = np.log1p(train_data_raw[\"SalePrice\"])\n",
    "\n",
    "# Standardize the features with training features\n",
    "scaler_x = StandardScaler()\n",
    "scaler_x.fit(train_data)\n",
    "x_train = scaler_x.transform(train_data)\n",
    "x_test = scaler_x.transform(test_data)\n",
    "\n",
    "# Standardize the target\n",
    "scaler_y = StandardScaler()\n",
    "y_train = y_train.values.reshape(-1, 1)\n",
    "scaler_y.fit(y_train)\n",
    "y_train = scaler_y.transform(y_train)\n",
    "\n",
    "# Check\n",
    "assert len(train_data.columns) == len(\n",
    "    test_data.columns), \"The number of columns is different\"\n",
    "assert train_data.isna().sum().sum() == 0 and test_data.isna(\n",
    ").sum().sum() == 0, \"Nan still exists\"\n"
   ]
  },
  {
   "cell_type": "code",
   "execution_count": 58,
   "id": "891d31de",
   "metadata": {},
   "outputs": [],
   "source": [
    "# Prediction\n",
    "reg = Ridge(alpha=0.1)\n",
    "reg.fit(x_train, y_train)\n",
    "y_pred = reg.predict(x_test)\n",
    "\n",
    "# Inverse standardization\n",
    "y_pred = scaler_y.inverse_transform(y_pred)\n",
    "ridge_pred = np.expm1(y_pred)\n"
   ]
  },
  {
   "cell_type": "code",
   "execution_count": 61,
   "id": "15f33767",
   "metadata": {},
   "outputs": [],
   "source": [
    "# Save prediction\n",
    "Id = np.array(test_data_raw[\"Id\"]).astype(int)\n",
    "function.save_kaggle_prediction(Id, y_pred, \"Id\", \"SalePrice\")\n"
   ]
  },
  {
   "cell_type": "code",
   "execution_count": 34,
   "id": "ed07a9dd",
   "metadata": {},
   "outputs": [
    {
     "data": {
      "text/plain": [
       "<Axes: >"
      ]
     },
     "execution_count": 34,
     "metadata": {},
     "output_type": "execute_result"
    },
    {
     "data": {
      "image/png": "[encoded data removed]",
      "text/plain": [
       "<Figure size 720x720 with 1 Axes>"
      ]
     },
     "metadata": {
      "needs_background": "light"
     },
     "output_type": "display_data"
    }
   ],
   "source": [
    "# Get the coefficient of the model\n",
    "coef = pd.Series(reg.coef_[0], index=train_data.columns)\n",
    "coef = coef.sort_values()\n",
    "coef_imp = pd.concat([coef.head(10), coef.tail(10)])\n",
    "\n",
    "plt.figure(figsize=(10, 10))\n",
    "coef_imp.plot(kind=\"barh\")\n"
   ]
  },
  {
   "cell_type": "code",
   "execution_count": 59,
   "id": "609b9086",
   "metadata": {},
   "outputs": [
    {
     "name": "stderr",
     "output_type": "stream",
     "text": [
      "/Users/junya/.pyenv/versions/3.9.11/lib/python3.9/site-packages/sklearn/utils/validation.py:1143: DataConversionWarning: A column-vector y was passed when a 1d array was expected. Please change the shape of y to (n_samples, ), for example using ravel().\n",
      "  y = column_or_1d(y, warn=True)\n"
     ]
    }
   ],
   "source": [
    "params = {\"num_leaves\": 10, \"max_depth\": 5, \"objective\": \"regression\",\n",
    "          \"metric\": \"rmse\", \"learning_rate\": 0.01, \"random_state\": 42, \"n_estimators\": 100}\n",
    "lgbm = lgb.LGBMRegressor(**params)\n",
    "lgbm.fit(x_train, y_train)\n",
    "y_pred = lgbm.predict(x_test)\n",
    "y_pred = y_pred.reshape(-1, 1)\n",
    "y_pred = scaler_y.inverse_transform(y_pred)\n",
    "lgbm_pred = np.expm1(y_pred)\n"
   ]
  },
  {
   "cell_type": "code",
   "execution_count": 60,
   "id": "86c8d656",
   "metadata": {},
   "outputs": [],
   "source": [
    "# Emsemble between ridge and lgbm\n",
    "y_pred = (ridge_pred + lgbm_pred)/2\n"
   ]
  },
  {
   "cell_type": "code",
   "execution_count": 68,
   "id": "069c92a7",
   "metadata": {},
   "outputs": [],
   "source": [
    "n_splits = 5\n",
    "\n",
    "\n",
    "def rmse_cv(model):\n",
    "    kf = KFold(n_splits, shuffle=True, random_state=42)\n",
    "    cv = cross_validate(model, x_train, y_train,\n",
    "                        scoring=\"neg_root_mean_squared_error\", cv=kf)\n",
    "    return -cv[\"test_score\"]\n"
   ]
  },
  {
   "cell_type": "code",
   "execution_count": 74,
   "id": "580aa3f4",
   "metadata": {},
   "outputs": [],
   "source": [
    "ridge = make_pipeline(RobustScaler(), Ridge(alpha=0.1))\n"
   ]
  },
  {
   "cell_type": "code",
   "execution_count": 76,
   "id": "e2be1daf",
   "metadata": {},
   "outputs": [
    {
     "data": {
      "text/plain": [
       "array([0.12400023, 0.11970249, 0.17290714, 0.13377847, 0.11009432])"
      ]
     },
     "execution_count": 76,
     "metadata": {},
     "output_type": "execute_result"
    }
   ],
   "source": [
    "rmse_cv(ridge)\n"
   ]
  },
  {
   "cell_type": "code",
   "execution_count": 77,
   "id": "05bc1d94",
   "metadata": {},
   "outputs": [
    {
     "data": {
      "text/plain": [
       "array([0.25083217, 0.2189341 , 0.21750948, 0.24528838, 0.20176161])"
      ]
     },
     "execution_count": 77,
     "metadata": {},
     "output_type": "execute_result"
    }
   ],
   "source": [
    "rmse_cv(lgbm)\n"
   ]
  },
  {
   "cell_type": "code",
   "execution_count": 64,
   "id": "83e8a9a4",
   "metadata": {},
   "outputs": [
    {
     "data": {
      "text/plain": [
       "((array([-3.30513952, -3.04793228, -2.90489705, ...,  2.90489705,\n",
       "          3.04793228,  3.30513952]),\n",
       "  array([ 34900,  35311,  37900, ..., 625000, 745000, 755000])),\n",
       " (74160.16474519415, 180921.19589041095, 0.9319665641512986))"
      ]
     },
     "execution_count": 64,
     "metadata": {},
     "output_type": "execute_result"
    },
    {
     "data": {
      "image/png": "[encoded data removed]",
      "text/plain": [
       "<Figure size 432x288 with 1 Axes>"
      ]
     },
     "metadata": {
      "needs_background": "light"
     },
     "output_type": "display_data"
    }
   ],
   "source": [
    "stats.probplot(train_data_raw[\"SalePrice\"], plot=plt)\n"
   ]
  },
  {
   "cell_type": "code",
   "execution_count": 63,
   "id": "6622878a",
   "metadata": {},
   "outputs": [
    {
     "data": {
      "image/png": "[encoded data removed]",
      "text/plain": [
       "<Figure size 432x288 with 1 Axes>"
      ]
     },
     "metadata": {
      "needs_background": "light"
     },
     "output_type": "display_data"
    }
   ],
   "source": [
    "train_data = deepcopy(train_data_raw)\n",
    "train_data[\"log_SalePrice\"] = np.log(train_data_raw[\"SalePrice\"])\n",
    "\n",
    "plt.hist(train_data[\"log_SalePrice\"], bins=30)\n"
   ]
  },
  {
   "cell_type": "code",
   "execution_count": 66,
   "id": "d377a66c",
   "metadata": {},
   "outputs": [
    {
     "data": {
      "text/plain": [
       "((array([-3.30513952, -3.04793228, -2.90489705, ...,  2.90489705,\n",
       "          3.04793228,  3.30513952]),\n",
       "  array([10.46024211, 10.47194981, 10.54270639, ..., 13.34550693,\n",
       "         13.5211395 , 13.53447303])),\n",
       " (0.39826223081618867, 12.024050901109383, 0.9953761475636614))"
      ]
     },
     "execution_count": 66,
     "metadata": {},
     "output_type": "execute_result"
    },
    {
     "data": {
      "image/png": "[encoded data removed]",
      "text/plain": [
       "<Figure size 432x288 with 1 Axes>"
      ]
     },
     "metadata": {
      "needs_background": "light"
     },
     "output_type": "display_data"
    }
   ],
   "source": [
    "stats.probplot(train_data[\"log_SalePrice\"], plot=plt)\n"
   ]
  },
  {
   "cell_type": "code",
   "execution_count": 106,
   "id": "e2bc4008",
   "metadata": {},
   "outputs": [
    {
     "name": "stdout",
     "output_type": "stream",
     "text": [
      "Utilities\n",
      "Condition2\n",
      "HouseStyle\n",
      "RoofMatl\n",
      "Exterior1st\n",
      "Exterior2nd\n",
      "Heating\n",
      "Electrical\n",
      "GarageQual\n",
      "PoolQC\n",
      "MiscFeature\n"
     ]
    }
   ],
   "source": [
    "def separate_df(df):\n",
    "    df_n = df.select_dtypes(include=['int64', 'float64'])\n",
    "    df_o = df.select_dtypes(include=[\"O\"])\n",
    "    return df_n, df_o\n",
    "\n",
    "\n",
    "_, train_data_o = separate_df(train_data_raw)\n",
    "_, test_data_o = separate_df(test_data_raw)\n",
    "\n",
    "# for (col1, series1), (col2, series2) in zip(train_data_o.items(), test_data_o.items()):\n",
    "#     print(col1, len(set(series1)), len(set(series2)))\n",
    "\n",
    "for col_name in train_data_o.columns:\n",
    "    one_hot_train = pd.get_dummies(train_data_o[col_name], prefix=col_name)\n",
    "    one_hot_test = pd.get_dummies(test_data_o[col_name], prefix=col_name)\n",
    "\n",
    "    if (one_hot_train.shape[1] != one_hot_test.shape[1]):\n",
    "        print(col_name)\n"
   ]
  },
  {
   "cell_type": "code",
   "execution_count": 87,
   "id": "d9b02217",
   "metadata": {},
   "outputs": [],
   "source": [
    "# 　訓練とテストでスパースな列を抽出\n",
    "threshold = 0.5\n",
    "\n",
    "sparse_col = []\n",
    "for data in [train_data_raw, test_data_raw]:\n",
    "    for col_name, series in data.items():\n",
    "        num_nan = series.isna().sum()\n",
    "        if (num_nan > len(data) * threshold):\n",
    "            sparse_col.append(col_name)\n",
    "\n",
    "sparse_col = list(set(sparse_col))\n"
   ]
  },
  {
   "cell_type": "code",
   "execution_count": 108,
   "id": "1e8e9bd6",
   "metadata": {},
   "outputs": [],
   "source": [
    "def preprocess(df):\n",
    "\n",
    "    # 　欠損値の多い列を削除\n",
    "    df = df.drop(columns=sparse_col)\n",
    "    df.pop(\"Id\")\n",
    "\n",
    "    # 　数値データとオブジェクトデータを分ける\n",
    "    df_n = df.select_dtypes(include=['int64', 'float64'])\n",
    "    df_o = df.select_dtypes(include=[\"O\"])\n",
    "    assert df.shape[1] == df_n.shape[1] + df_o.shape[1], \"列の数が一致していない\"\n",
    "\n",
    "    # one hot encoding\n",
    "    for col_name in df_o.columns:\n",
    "        df_o = function.add_one_hot(df_o, col_name)\n",
    "\n",
    "    df = pd.concat([df_n, df_o], axis=1)\n",
    "\n",
    "    return df\n",
    "\n",
    "\n",
    "train_data = preprocess(train_data_raw)\n",
    "test_data = preprocess(test_data_raw)\n",
    "\n",
    "\n",
    "y_train = train_data[\"SalePrice\"]\n",
    "x_train = train_data.drop(columns=\"SalePrice\")\n",
    "x_test = test_data\n",
    "\n",
    "# 同じ列名のみ採用\n",
    "columns_to_keep = list(set(x_train.columns) & set(x_test.columns))\n",
    "x_train = x_train[columns_to_keep]\n",
    "x_test = x_test[columns_to_keep]\n",
    "\n",
    "assert x_train.shape[1] == x_test.shape[1], \"列の数が違います\"\n"
   ]
  },
  {
   "cell_type": "code",
   "execution_count": 119,
   "id": "dba42485",
   "metadata": {},
   "outputs": [],
   "source": [
    "lgbm_params = {\n",
    "    'boosting_type': 'gbdt',\n",
    "    'num_leaves': 10,\n",
    "    \"max_depth\": 5,\n",
    "    'learning_rate': 0.01,\n",
    "    'n_estimators': 200,\n",
    "    'random_state': 42,\n",
    "}\n",
    "\n",
    "clf = lgb.LGBMRegressor(**lgbm_params)\n",
    "clf.fit(x_train, y_train)\n",
    "\n",
    "y_pred = clf.predict(x_test)\n",
    "\n",
    "# Save prediction\n",
    "Id = np.array(test_data_raw[\"Id\"]).astype(int)\n",
    "function.save_kaggle_prediction(Id, y_pred, \"Id\", \"SalePrice\")\n"
   ]
  },
  {
   "attachments": {},
   "cell_type": "markdown",
   "id": "36f6c75e",
   "metadata": {},
   "source": [
    "# パラメータチューニング"
   ]
  },
  {
   "cell_type": "code",
   "execution_count": null,
   "id": "fafda0b5",
   "metadata": {},
   "outputs": [],
   "source": [
    "n_splits = 5\n",
    "# 　クロスバリデーション用\n",
    "cv_cv = StratifiedKFold(\n",
    "    n_splits=n_splits, shuffle=True, random_state=42)\n",
    "# 　最適化用\n",
    "cv_opt = StratifiedKFold(\n",
    "    n_splits=3, shuffle=True, random_state=42)\n",
    "# 　探索範囲\n",
    "params = {\"num_leaves\": [2, 30], \"learning_rate\": [\n",
    "    0.01, 0.2], \"max_depth\": [1, 10]}\n",
    "study_list = function.cv_lgbm_bayesian_opt(\n",
    "    x_train, y_train, cv_cv, cv_opt, params, n_trials=100)\n",
    "\n",
    "with open(\"../data/processed/study_list_\"+function.get_now_time()+\".bin\", 'wb') as p:\n",
    "    pickle.dump(study_list, p)\n"
   ]
  },
  {
   "attachments": {},
   "cell_type": "markdown",
   "id": "6ac3e57f",
   "metadata": {},
   "source": [
    "# モデル学習"
   ]
  },
  {
   "cell_type": "code",
   "execution_count": 55,
   "id": "cd298a16",
   "metadata": {},
   "outputs": [],
   "source": [
    "with open(\"../data/processed/study_list_20230525_154947.bin\", 'rb') as p:\n",
    "    study_list = pickle.load(p)\n",
    "\n",
    "best_pramas_list = []\n",
    "for study in study_list:\n",
    "    best_pramas_list.append(study.best_params)\n",
    "\n",
    "# 学習\n",
    "clf_list = function.cv_lgbm_clf(\n",
    "    x_train, y_train, cv_cv, best_pramas_list, eval_metric=\"logloss\", stopping_rounds=50)\n",
    "with open(\"../models/clf_list_\"+function.get_now_time()+\".bin\", 'wb') as p:\n",
    "    pickle.dump(clf_list, p)\n"
   ]
  },
  {
   "attachments": {},
   "cell_type": "markdown",
   "id": "8d7a8d3b",
   "metadata": {},
   "source": [
    "# 予測"
   ]
  },
  {
   "cell_type": "code",
   "execution_count": 56,
   "id": "c377103f",
   "metadata": {},
   "outputs": [],
   "source": [
    "# 多数決\n",
    "with open(\"../models/clf_list_20230526_155950.bin\", 'rb') as p:\n",
    "    clf_list = pickle.load(p)\n",
    "\n",
    "# 3以上なら1とする\n",
    "sum_pred = np.zeros(len(x_test))\n",
    "for clf in clf_list:\n",
    "    sum_pred += clf.predict(x_test)\n",
    "y_pred = np.where(sum_pred >= 3, 1, 0)\n",
    "\n",
    "# Save prediction\n",
    "PassengerId = np.array(test_data_raw[\"PassengerId\"]).astype(int)\n",
    "function.save_kaggle_prediction(y_pred, PassengerId, \"Survived\", \"PassengerId\")\n"
   ]
  },
  {
   "cell_type": "code",
   "execution_count": null,
   "id": "b37776ab",
   "metadata": {},
   "outputs": [],
   "source": []
  },
  {
   "cell_type": "code",
   "execution_count": null,
   "id": "734d264e",
   "metadata": {},
   "outputs": [],
   "source": [
    "\n",
    "\n",
    "x_label = \"Age\"\n",
    "y_label = \"Fare\"\n",
    "fig, ax = plt.subplots(figsize=(10, 6))\n",
    "scatter = ax.scatter(train_data_raw[x_label], train_data_raw[y_label],\n",
    "                     c=train_data_raw[\"Survived\"], cmap='viridis')\n",
    "\n",
    "# 軸ラベルの設定\n",
    "ax.set_xlabel(x_label)\n",
    "ax.set_ylabel(y_label)\n",
    "\n",
    "# 凡例の表示\n",
    "legend_labels = ['Dead', 'Survived']\n",
    "ax.legend(handles=scatter.legend_elements()[\n",
    "          0], labels=legend_labels, title='Labels')\n"
   ]
  }
 ],
 "metadata": {
  "kernelspec": {
   "display_name": "Python 3",
   "language": "python",
   "name": "python3"
  },
  "language_info": {
   "codemirror_mode": {
    "name": "ipython",
    "version": 3
   },
   "file_extension": ".py",
   "mimetype": "text/x-python",
   "name": "python",
   "nbconvert_exporter": "python",
   "pygments_lexer": "ipython3",
   "version": "3.9.11"
  }
 },
 "nbformat": 4,
 "nbformat_minor": 5
}
